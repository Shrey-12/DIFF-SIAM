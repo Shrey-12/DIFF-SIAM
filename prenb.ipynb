{
 "cells": [
  {
   "cell_type": "code",
   "execution_count": 1,
   "metadata": {},
   "outputs": [
    {
     "name": "stderr",
     "output_type": "stream",
     "text": [
      "/home/noodlebowl/Project/preprocessing/python3.6/lib/python3.6/site-packages/tqdm/auto.py:22: TqdmWarning: IProgress not found. Please update jupyter and ipywidgets. See https://ipywidgets.readthedocs.io/en/stable/user_install.html\n",
      "  from .autonotebook import tqdm as notebook_tqdm\n",
      "Using cache found in /home/noodlebowl/.cache/torch/hub/pytorch_vision_v0.10.0\n"
     ]
    }
   ],
   "source": [
    "import torch\n",
    "import torchvision.transforms as transforms\n",
    "from retinaface import RetinaFace\n",
    "import cv2\n",
    "import os\n",
    "\n",
    "# Load the Wide ResNet 50 model, ensuring correct model name\n",
    "model = torch.hub.load('pytorch/vision:v0.10.0', 'wide_resnet50_2', pretrained=True)"
   ]
  },
  {
   "cell_type": "code",
   "execution_count": 2,
   "metadata": {},
   "outputs": [],
   "source": [
    "image_dir = \"../CASIA_WebFace\"\n",
    "image_paths = [os.path.join(image_dir, filename) for filename in os.listdir(image_dir) if filename.endswith((\".jpg\", \".jpeg\", \".png\"))]"
   ]
  },
  {
   "cell_type": "code",
   "execution_count": 43,
   "metadata": {},
   "outputs": [],
   "source": [
    "def load_and_preprocess(img_path, scale):\n",
    "    # Load image\n",
    "    img = cv2.imread(img_path)\n",
    "    img = cv2.cvtColor(img, cv2.COLOR_BGR2RGB)\n",
    "\n",
    "    # Assuming RetinaFace is used for face detection\n",
    "    faces = RetinaFace.detect_faces(img)\n",
    "    if len(faces) > 0:\n",
    "    #     # Assuming you want to use the first detected face\n",
    "        face_info = faces['face_1']\n",
    "\n",
    "        # Extract the bounding box information\n",
    "        score = face_info['score']\n",
    "        facial_area = face_info['facial_area']\n",
    "        left, top, right, bottom = facial_area\n",
    "\n",
    "        # Crop the face with a margin of 5% of the detected bounding box height\n",
    "        margin = int(0.05 * (bottom - top))\n",
    "        cropped_face = img[max(0, top - margin):bottom + margin, max(0, left - margin):right + margin]\n",
    "\n",
    "        # Resize the image to the desired scale\n",
    "        size = (224, 224) if scale == 1 else (448, 448)\n",
    "        normalized_img = transforms.ToTensor()(cv2.resize(cropped_face, size))\n",
    "\n",
    "        return normalized_img"
   ]
  },
  {
   "cell_type": "code",
   "execution_count": 47,
   "metadata": {},
   "outputs": [],
   "source": [
    "for img_path in image_paths:\n",
    "    image_name = os.path.basename(img_path)\n",
    "    for scale in [1, 2]:\n",
    "        normalized_img = load_and_preprocess(img_path, scale)\n",
    "        features = model(normalized_img.unsqueeze(0)).squeeze(0)\n",
    "        feature_path = f\"processed/feature_scale_{scale}/{image_name.replace('.jpg', '.pt')}\"\n",
    "        torch.save(features, feature_path)"
   ]
  },
  {
   "cell_type": "code",
   "execution_count": null,
   "metadata": {},
   "outputs": [],
   "source": []
  }
 ],
 "metadata": {
  "kernelspec": {
   "display_name": "python3.6",
   "language": "python",
   "name": "python3"
  },
  "language_info": {
   "codemirror_mode": {
    "name": "ipython",
    "version": 3
   },
   "file_extension": ".py",
   "mimetype": "text/x-python",
   "name": "python",
   "nbconvert_exporter": "python",
   "pygments_lexer": "ipython3",
   "version": "3.6.15"
  }
 },
 "nbformat": 4,
 "nbformat_minor": 2
}
